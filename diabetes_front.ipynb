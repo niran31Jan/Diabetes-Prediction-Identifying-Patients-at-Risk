{
 "cells": [
  {
   "cell_type": "code",
   "execution_count": 1,
   "id": "c8fa5aa3",
   "metadata": {},
   "outputs": [],
   "source": [
    "import pickle"
   ]
  },
  {
   "cell_type": "code",
   "execution_count": 2,
   "id": "94c62f49",
   "metadata": {},
   "outputs": [],
   "source": [
    "import numpy as np"
   ]
  },
  {
   "cell_type": "code",
   "execution_count": 4,
   "id": "cfed4df5",
   "metadata": {},
   "outputs": [],
   "source": [
    "pipe=pickle.load(open('diabetes_pipe.pkl','rb'))"
   ]
  },
  {
   "cell_type": "code",
   "execution_count": 10,
   "id": "d29fd38b",
   "metadata": {},
   "outputs": [],
   "source": [
    "test_input=np.array(['Female',44,1,0,'never',19.31,6.5,250],dtype=object).reshape(1,8)"
   ]
  },
  {
   "cell_type": "code",
   "execution_count": 11,
   "id": "7fc8a634",
   "metadata": {},
   "outputs": [
    {
     "name": "stderr",
     "output_type": "stream",
     "text": [
      "C:\\python3.10.2\\lib\\site-packages\\sklearn\\base.py:450: UserWarning: X does not have valid feature names, but OneHotEncoder was fitted with feature names\n",
      "  warnings.warn(\n"
     ]
    }
   ],
   "source": [
    "result=pipe.predict(test_input)"
   ]
  },
  {
   "cell_type": "code",
   "execution_count": 12,
   "id": "b457ab3c",
   "metadata": {},
   "outputs": [
    {
     "name": "stdout",
     "output_type": "stream",
     "text": [
      "YES Diabetes\n"
     ]
    }
   ],
   "source": [
    "if result==0:\n",
    "    print('NO Diabetes')\n",
    "else:\n",
    "    print('YES Diabetes')"
   ]
  },
  {
   "cell_type": "code",
   "execution_count": null,
   "id": "20982fe3",
   "metadata": {},
   "outputs": [],
   "source": []
  }
 ],
 "metadata": {
  "kernelspec": {
   "display_name": "Python 3 (ipykernel)",
   "language": "python",
   "name": "python3"
  },
  "language_info": {
   "codemirror_mode": {
    "name": "ipython",
    "version": 3
   },
   "file_extension": ".py",
   "mimetype": "text/x-python",
   "name": "python",
   "nbconvert_exporter": "python",
   "pygments_lexer": "ipython3",
   "version": "3.10.2"
  }
 },
 "nbformat": 4,
 "nbformat_minor": 5
}
